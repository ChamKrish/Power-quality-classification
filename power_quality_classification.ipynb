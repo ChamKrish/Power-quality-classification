{
  "nbformat": 4,
  "nbformat_minor": 0,
  "metadata": {
    "colab": {
      "name": "power quality classification.ipynb",
      "provenance": [],
      "collapsed_sections": [
        "SzoKUHfzTM1d",
        "U4j6i-hlUtV0",
        "jmdZw6ggVCsI",
        "2YlClnZUXSv5",
        "BxZ75XrOVGh6",
        "TXbjvDjYVJdP",
        "iTvdtlV6hF6j",
        "HhyDLJAL9bHL"
      ],
      "authorship_tag": "ABX9TyOtFpcPAaoA7sLP2OrxtW3X",
      "include_colab_link": true
    },
    "kernelspec": {
      "name": "python3",
      "display_name": "Python 3"
    }
  },
  "cells": [
    {
      "cell_type": "markdown",
      "metadata": {
        "id": "view-in-github",
        "colab_type": "text"
      },
      "source": [
        "<a href=\"https://colab.research.google.com/github/cham2601/Power-quality-classification/blob/main/power_quality_classification.ipynb\" target=\"_parent\"><img src=\"https://colab.research.google.com/assets/colab-badge.svg\" alt=\"Open In Colab\"/></a>"
      ]
    },
    {
      "cell_type": "markdown",
      "metadata": {
        "id": "9dlt1SH9Xy71"
      },
      "source": [
        "## Importing data"
      ]
    },
    {
      "cell_type": "code",
      "metadata": {
        "id": "eG7hQ-ODdOry"
      },
      "source": [
        "import numpy as np\r\n",
        "import pandas as pd\r\n",
        "\r\n",
        "# load dataset\r\n",
        "X_train = pd.read_csv(\"Voltage_L1_DataSet1.csv\",header=None)\r\n",
        "Y_train = pd.read_csv(\"OutputFor_DataSet1.csv\",header=None)\r\n",
        "X_test = pd.read_csv(\"Voltage_L1_DataSet2.csv\",header=None)\r\n",
        "Y_test = pd.read_csv(\"OutputFor_DataSet2.csv\",header=None)\r\n",
        "\r\n",
        "# X_train = pd.read_csv(\"Voltage_L1_train.csv\",header=None)\r\n",
        "# Y_train = pd.read_csv(\"output_train.csv\",header=None)\r\n",
        "# X_test = pd.read_csv(\"Voltage_L1_test.csv\",header=None)\r\n",
        "# Y_test = pd.read_csv(\"output_test.csv\",header=None)\r\n",
        "X_train = X_train.dropna()\r\n",
        "X_test = X_test.dropna()"
      ],
      "execution_count": 140,
      "outputs": []
    },
    {
      "cell_type": "code",
      "metadata": {
        "colab": {
          "base_uri": "https://localhost:8080/"
        },
        "id": "dRqarT6FqOxx",
        "outputId": "6528d27a-b346-4de8-f83f-c0ebfc9d3c25"
      },
      "source": [
        "print(X_train.shape,X_test.shape,Y_train.shape,Y_test.shape)"
      ],
      "execution_count": 141,
      "outputs": [
        {
          "output_type": "stream",
          "text": [
            "(6000, 128) (6000, 128) (6000, 1) (6000, 1)\n"
          ],
          "name": "stdout"
        }
      ]
    },
    {
      "cell_type": "markdown",
      "metadata": {
        "id": "aBS2Xgk6ROhK"
      },
      "source": [
        "## Downloading libraries"
      ]
    },
    {
      "cell_type": "code",
      "metadata": {
        "id": "cZKvh2D8wu5Q"
      },
      "source": [
        "from keras import Sequential\r\n",
        "from keras.models import Model\r\n",
        "from keras.layers import Dense,Input,Dropout,LSTM\r\n",
        "from keras.utils import to_categorical\r\n",
        "from keras.optimizers import Adam\r\n",
        "# from tensorflow.keras.layers.experimental import RandomFourierFeatures,preprocessing\r\n",
        "import tensorflow as tf\r\n",
        "# import keras\r\n",
        "import tensorflow.keras.backend as K\r\n",
        "np.random.seed(0)"
      ],
      "execution_count": 142,
      "outputs": []
    },
    {
      "cell_type": "markdown",
      "metadata": {
        "id": "rHg26a7hYHnJ"
      },
      "source": [
        "## Data preprocessing"
      ]
    },
    {
      "cell_type": "code",
      "metadata": {
        "colab": {
          "base_uri": "https://localhost:8080/"
        },
        "id": "U6Itp46Jv8ND",
        "outputId": "e00f3399-963c-4068-d6ac-277d1d76d0d1"
      },
      "source": [
        "x_train = np.array(X_train).reshape(X_train.shape[0],X_train.shape[1],1)\r\n",
        "x_test = np.array(X_test).reshape(X_test.shape[0],X_test.shape[1],1)\r\n",
        "\r\n",
        "y_train = to_categorical(Y_train)\r\n",
        "y_test = to_categorical(Y_test)\r\n",
        "\r\n",
        "input_shape = x_train.shape[1:]\r\n",
        "classes = y_train.shape[1]\r\n",
        "print(x_train.shape,x_test.shape,y_train.shape,y_test.shape)"
      ],
      "execution_count": 143,
      "outputs": [
        {
          "output_type": "stream",
          "text": [
            "(6000, 128, 1) (6000, 128, 1) (6000, 6) (6000, 6)\n"
          ],
          "name": "stdout"
        }
      ]
    },
    {
      "cell_type": "markdown",
      "metadata": {
        "id": "4dR5envzP5IP"
      },
      "source": [
        "## LSTM model"
      ]
    },
    {
      "cell_type": "markdown",
      "metadata": {
        "id": "SzoKUHfzTM1d"
      },
      "source": [
        "### Building"
      ]
    },
    {
      "cell_type": "code",
      "metadata": {
        "id": "okD3Yu2Nwdiw"
      },
      "source": [
        "def LSTMmodel(input_shape,classes):\r\n",
        "  input = Input(shape=input_shape)\r\n",
        "  out = LSTM(units = 128,return_sequences=True)(input)\r\n",
        "  out = Dropout(rate = 0.3)(out)\r\n",
        "  out = LSTM(units = 128,return_sequences=False)(out)\r\n",
        "  out = Dropout(rate = 0.3)(out)\r\n",
        "  out = Dense(classes,'softmax')(out)\r\n",
        "\r\n",
        "  model = Model(input,out)\r\n",
        "  return model"
      ],
      "execution_count": 120,
      "outputs": []
    },
    {
      "cell_type": "markdown",
      "metadata": {
        "id": "U4j6i-hlUtV0"
      },
      "source": [
        "## Compiling model for dataset1"
      ]
    },
    {
      "cell_type": "code",
      "metadata": {
        "colab": {
          "base_uri": "https://localhost:8080/"
        },
        "id": "fOv7OemRlaQe",
        "outputId": "1e0ef4b2-2da1-47cf-f406-c11af1ab7afe"
      },
      "source": [
        "model1 = LSTMmodel(input_shape,classes)\r\n",
        "model1.compile(optimizer=Adam(learning_rate=0.001), loss=\"categorical_crossentropy\", metrics=[\"accuracy\"])\r\n",
        "model1.summary()"
      ],
      "execution_count": 121,
      "outputs": [
        {
          "output_type": "stream",
          "text": [
            "Model: \"model_23\"\n",
            "_________________________________________________________________\n",
            "Layer (type)                 Output Shape              Param #   \n",
            "=================================================================\n",
            "input_24 (InputLayer)        [(None, 256, 1)]          0         \n",
            "_________________________________________________________________\n",
            "lstm_46 (LSTM)               (None, 256, 128)          66560     \n",
            "_________________________________________________________________\n",
            "dropout_46 (Dropout)         (None, 256, 128)          0         \n",
            "_________________________________________________________________\n",
            "lstm_47 (LSTM)               (None, 128)               131584    \n",
            "_________________________________________________________________\n",
            "dropout_47 (Dropout)         (None, 128)               0         \n",
            "_________________________________________________________________\n",
            "dense_11 (Dense)             (None, 7)                 903       \n",
            "=================================================================\n",
            "Total params: 199,047\n",
            "Trainable params: 199,047\n",
            "Non-trainable params: 0\n",
            "_________________________________________________________________\n"
          ],
          "name": "stdout"
        }
      ]
    },
    {
      "cell_type": "code",
      "metadata": {
        "id": "1kLx4QsT8UAe"
      },
      "source": [
        "# pip install livelossplot"
      ],
      "execution_count": 122,
      "outputs": []
    },
    {
      "cell_type": "markdown",
      "metadata": {
        "id": "jmdZw6ggVCsI"
      },
      "source": [
        "### Training"
      ]
    },
    {
      "cell_type": "code",
      "metadata": {
        "colab": {
          "base_uri": "https://localhost:8080/"
        },
        "id": "Y5KvmaB4zY4I",
        "outputId": "1145929f-e34b-4e92-a786-7aac9ec87e1d"
      },
      "source": [
        "from tensorflow.keras.callbacks import ModelCheckpoint, EarlyStopping\r\n",
        "from livelossplot import PlotLossesKeras\r\n",
        "\r\n",
        "chkpt = ModelCheckpoint(\"LSTM_model1weights.h5\", monitor='val_loss',verbose=1, save_best_only=True, save_weights_only=True, mode='min')\r\n",
        "\r\n",
        "early_stopping = EarlyStopping(monitor='val_accuracy', min_delta=0, patience=1, verbose=0, mode='max', baseline=None, restore_best_weights=False)\r\n",
        "\r\n",
        "callbacks = [chkpt]\r\n",
        "\r\n",
        "model1.fit(x_train,y_train,epochs=30,validation_split=0.3,batch_size=128)"
      ],
      "execution_count": 241,
      "outputs": [
        {
          "output_type": "stream",
          "text": [
            "33/33 [==============================] - 72s 2s/step - loss: 0.0664 - accuracy: 0.9776 - val_loss: 0.0440 - val_accuracy: 0.9833\n"
          ],
          "name": "stdout"
        },
        {
          "output_type": "execute_result",
          "data": {
            "text/plain": [
              "<tensorflow.python.keras.callbacks.History at 0x7f9e50252550>"
            ]
          },
          "metadata": {
            "tags": []
          },
          "execution_count": 241
        }
      ]
    },
    {
      "cell_type": "markdown",
      "metadata": {
        "id": "2YlClnZUXSv5"
      },
      "source": [
        "### Testing"
      ]
    },
    {
      "cell_type": "code",
      "metadata": {
        "id": "cTbAoe8r1ics"
      },
      "source": [
        "loss1,acc1 = model1.evaluate(x_test,y_test,batch_size=32)"
      ],
      "execution_count": null,
      "outputs": []
    },
    {
      "cell_type": "markdown",
      "metadata": {
        "id": "BxZ75XrOVGh6"
      },
      "source": [
        "### Saving weights and model"
      ]
    },
    {
      "cell_type": "code",
      "metadata": {
        "id": "GMhitFUaRBHe"
      },
      "source": [
        "model1.save('LSTM.h5')\r\n",
        "# model_json = model1.to_json()\r\n",
        "# with open(\"model.json\", \"w\") as json_file:\r\n",
        "#     json_file.write(model_json)"
      ],
      "execution_count": 104,
      "outputs": []
    },
    {
      "cell_type": "markdown",
      "metadata": {
        "id": "TXbjvDjYVJdP"
      },
      "source": [
        "### loading weights and evaluating"
      ]
    },
    {
      "cell_type": "code",
      "metadata": {
        "colab": {
          "base_uri": "https://localhost:8080/"
        },
        "id": "406pnT2MQtIh",
        "outputId": "b9459a42-aaf5-49e7-871e-c0c502482fc7"
      },
      "source": [
        "model1.load_weights('LSTM_weights1.h5')\r\n",
        "model1.evaluate(x_test,y_test)"
      ],
      "execution_count": 102,
      "outputs": [
        {
          "output_type": "stream",
          "text": [
            "188/188 [==============================] - 50s 261ms/step - loss: 0.0419 - accuracy: 0.9871\n"
          ],
          "name": "stdout"
        },
        {
          "output_type": "execute_result",
          "data": {
            "text/plain": [
              "[0.04287343472242355, 0.9856666922569275]"
            ]
          },
          "metadata": {
            "tags": []
          },
          "execution_count": 102
        }
      ]
    },
    {
      "cell_type": "code",
      "metadata": {
        "colab": {
          "base_uri": "https://localhost:8080/"
        },
        "id": "h0wIk4w_zGEg",
        "outputId": "02ce1fe5-194c-4cf9-9c3a-c05bc2cde484"
      },
      "source": [
        "model1.load_weights('LSTM.h5')\r\n",
        "model1.evaluate(x_test,y_test)"
      ],
      "execution_count": 103,
      "outputs": [
        {
          "output_type": "stream",
          "text": [
            "188/188 [==============================] - 49s 259ms/step - loss: 0.0429 - accuracy: 0.9857\n"
          ],
          "name": "stdout"
        },
        {
          "output_type": "execute_result",
          "data": {
            "text/plain": [
              "[0.04287343472242355, 0.9856666922569275]"
            ]
          },
          "metadata": {
            "tags": []
          },
          "execution_count": 103
        }
      ]
    },
    {
      "cell_type": "markdown",
      "metadata": {
        "id": "UqrdqoHPVp8m"
      },
      "source": [
        "## Dataset2"
      ]
    },
    {
      "cell_type": "code",
      "metadata": {
        "id": "ZvJhpn7hV59v"
      },
      "source": [
        "def LSTM_SVMmodel(input_shape,classes):\r\n",
        "  input = Input(shape=input_shape)\r\n",
        "  out = LSTM(units = 128,return_sequences=True)(input)\r\n",
        "  out = Dropout(rate = 0.3)(out)\r\n",
        "  out = LSTM(units = 128,return_sequences=False)(out)\r\n",
        "  out = Dropout(rate = 0.3)(out)\r\n",
        "  out = Dense(classes, use_bias=False, activation='linear', name='svm')(out)\r\n",
        "\r\n",
        "  model = Model(input,out)\r\n",
        "  return model"
      ],
      "execution_count": 123,
      "outputs": []
    },
    {
      "cell_type": "code",
      "metadata": {
        "id": "urnr9ZXLWP8q"
      },
      "source": [
        "def svm_loss(layer):\r\n",
        "    weights = layer.weights[0]\r\n",
        "    weights_tf = tf.convert_to_tensor(weights)\r\n",
        "    \r\n",
        "    def categorical_hinge_loss(y_true, y_pred):\r\n",
        "        pos = K.sum(y_true * y_pred, axis=-1)\r\n",
        "        neg = K.max((1.0 - y_true) * y_pred, axis=-1)\r\n",
        "        hinge_loss = K.mean(K.maximum(0.0, neg - pos + 1), axis=-1)\r\n",
        "        regularization_loss = 0.5*(tf.reduce_sum(tf.square(weights_tf)))\r\n",
        "        return regularization_loss + 0.4*hinge_loss\r\n",
        "    \r\n",
        "    return categorical_hinge_loss"
      ],
      "execution_count": 124,
      "outputs": []
    },
    {
      "cell_type": "code",
      "metadata": {
        "colab": {
          "base_uri": "https://localhost:8080/"
        },
        "id": "NheLrXd-WVD2",
        "outputId": "e069e472-644a-472b-af29-0e5be2f76020"
      },
      "source": [
        "model2 = LSTM_SVMmodel(input_shape,classes)\r\n",
        "\r\n",
        "metrics = ['accuracy']\r\n",
        "# optimizer = tf.keras.optimizers.RMSprop(lr=2e-3, decay=1e-5)\r\n",
        "optimizer = Adam(learning_rate=0.001)\r\n",
        "\r\n",
        "model2.compile(optimizer=optimizer, loss=svm_loss(model.get_layer('svm')), metrics=metrics)\r\n",
        "model2.summary()"
      ],
      "execution_count": 164,
      "outputs": [
        {
          "output_type": "stream",
          "text": [
            "Model: \"model_34\"\n",
            "_________________________________________________________________\n",
            "Layer (type)                 Output Shape              Param #   \n",
            "=================================================================\n",
            "input_35 (InputLayer)        [(None, 128, 1)]          0         \n",
            "_________________________________________________________________\n",
            "lstm_60 (LSTM)               (None, 128, 128)          66560     \n",
            "_________________________________________________________________\n",
            "dropout_68 (Dropout)         (None, 128, 128)          0         \n",
            "_________________________________________________________________\n",
            "lstm_61 (LSTM)               (None, 128)               131584    \n",
            "_________________________________________________________________\n",
            "dropout_69 (Dropout)         (None, 128)               0         \n",
            "_________________________________________________________________\n",
            "svm (Dense)                  (None, 6)                 768       \n",
            "=================================================================\n",
            "Total params: 198,912\n",
            "Trainable params: 198,912\n",
            "Non-trainable params: 0\n",
            "_________________________________________________________________\n"
          ],
          "name": "stdout"
        }
      ]
    },
    {
      "cell_type": "code",
      "metadata": {
        "colab": {
          "base_uri": "https://localhost:8080/"
        },
        "id": "yzHJbKJJWZlB",
        "outputId": "d258235d-43ed-4eb3-e010-b3e4de1f506b"
      },
      "source": [
        "# from tensorflow.keras.callbacks import ModelCheckpoint, EarlyStopping\r\n",
        "# from livelossplot import PlotLossesKeras\r\n",
        "\r\n",
        "# chkpt = ModelCheckpoint(\"LSTM_svmweights1.h5\", monitor='val_loss',verbose=1, save_best_only=True, save_weights_only=True, mode='min')\r\n",
        "# callbacks = [PlotLossesKeras(),chkpt]\r\n",
        "\r\n",
        "history = model2.fit(x_train, y_train,\r\n",
        "                    batch_size=64,\r\n",
        "                    epochs=2,\r\n",
        "                    validation_split=0.3\r\n",
        "                    )"
      ],
      "execution_count": 129,
      "outputs": [
        {
          "output_type": "stream",
          "text": [
            "Epoch 1/2\n",
            "66/66 [==============================] - 68s 1s/step - loss: 5.2535 - accuracy: 0.4593 - val_loss: 5.5371 - val_accuracy: 0.0156\n",
            "Epoch 2/2\n",
            "66/66 [==============================] - 68s 1s/step - loss: 5.2299 - accuracy: 0.4990 - val_loss: 5.4988 - val_accuracy: 0.0061\n"
          ],
          "name": "stdout"
        }
      ]
    },
    {
      "cell_type": "code",
      "metadata": {
        "id": "hZxGcPrzb3L2"
      },
      "source": [
        "from keras.models import load_model\r\n",
        "model2.save('LSTM_SVM.h5')\r\n",
        "# del model2\r\n",
        "# model2 = load_model('LSTM_SVM.h5')\r\n",
        "# model2.evaluate(x_test,y_test)"
      ],
      "execution_count": 165,
      "outputs": []
    },
    {
      "cell_type": "markdown",
      "metadata": {
        "id": "iTvdtlV6hF6j"
      },
      "source": [
        "## SVM"
      ]
    },
    {
      "cell_type": "code",
      "metadata": {
        "id": "wjOKa1FmlCwj"
      },
      "source": [
        ""
      ],
      "execution_count": null,
      "outputs": []
    },
    {
      "cell_type": "code",
      "metadata": {
        "id": "db3CH02ZhI5f"
      },
      "source": [
        "def model_1(x_input):\r\n",
        "    x = Dense(512, activation='relu')(x_input)\r\n",
        "    x = Dense(512, activation='relu')(x)\r\n",
        "    x = Dropout(0.5)(x)\r\n",
        "    x_out = Dense(256, activation='relu')(x)\r\n",
        "    x_out = Dropout(0.5)(x)\r\n",
        "    return x_out"
      ],
      "execution_count": 158,
      "outputs": []
    },
    {
      "cell_type": "code",
      "metadata": {
        "id": "UHs-TeZXk-IZ"
      },
      "source": [
        "def model(input_shape,classes):\r\n",
        "  input = Input(shape=input_shape)\r\n",
        "  # out = normalizer(input)\r\n",
        "  out = LSTM(units = 256,return_sequences=True)(input)\r\n",
        "  out = Dropout(rate = 0.3)(out)\r\n",
        "  out = LSTM(units = 256,return_sequences=False)(out)\r\n",
        "  out = Dropout(rate = 0.3)(out)\r\n",
        "  out = Dense(classes, use_bias=False, activation='linear', name='svm')(out)\r\n",
        "\r\n",
        "  model = Model(input,out)\r\n",
        "  return model"
      ],
      "execution_count": 19,
      "outputs": []
    },
    {
      "cell_type": "code",
      "metadata": {
        "id": "9EYvkfrHk7b3"
      },
      "source": [
        "model = model(input_shape,classes)"
      ],
      "execution_count": 20,
      "outputs": []
    },
    {
      "cell_type": "code",
      "metadata": {
        "id": "QCSyJ0Gxk4_i"
      },
      "source": [
        "def svm_loss(layer):\r\n",
        "    weights = layer.weights[0]\r\n",
        "    weights_tf = tf.convert_to_tensor(weights)\r\n",
        "    \r\n",
        "    def categorical_hinge_loss(y_true, y_pred):\r\n",
        "        pos = K.sum(y_true * y_pred, axis=-1)\r\n",
        "        neg = K.max((1.0 - y_true) * y_pred, axis=-1)\r\n",
        "        hinge_loss = K.mean(K.maximum(0.0, neg - pos + 1), axis=-1)\r\n",
        "        regularization_loss = 0.5*(tf.reduce_sum(tf.square(weights_tf)))\r\n",
        "        return regularization_loss + 0.4*hinge_loss\r\n",
        "    \r\n",
        "    return categorical_hinge_loss"
      ],
      "execution_count": 21,
      "outputs": []
    },
    {
      "cell_type": "code",
      "metadata": {
        "colab": {
          "base_uri": "https://localhost:8080/"
        },
        "id": "aVNOEZKtk2Eg",
        "outputId": "e4c77187-bc43-4800-88e1-1b4c6a7e9574"
      },
      "source": [
        "metrics = ['accuracy']\r\n",
        "optimizer = tf.keras.optimizers.RMSprop(lr=2e-3, decay=1e-5)\r\n",
        "#optimizer = tf.train.AdamOptimizer(1.e-3)\r\n",
        "\r\n",
        "model.compile(optimizer=optimizer, loss=svm_loss(model.get_layer('svm')), metrics=metrics)\r\n",
        "model.summary()"
      ],
      "execution_count": 24,
      "outputs": [
        {
          "output_type": "stream",
          "text": [
            "Model: \"model_8\"\n",
            "_________________________________________________________________\n",
            "Layer (type)                 Output Shape              Param #   \n",
            "=================================================================\n",
            "input_9 (InputLayer)         [(None, 128, 1)]          0         \n",
            "_________________________________________________________________\n",
            "lstm_16 (LSTM)               (None, 128, 256)          264192    \n",
            "_________________________________________________________________\n",
            "dropout_16 (Dropout)         (None, 128, 256)          0         \n",
            "_________________________________________________________________\n",
            "lstm_17 (LSTM)               (None, 256)               525312    \n",
            "_________________________________________________________________\n",
            "dropout_17 (Dropout)         (None, 256)               0         \n",
            "_________________________________________________________________\n",
            "svm (Dense)                  (None, 6)                 1536      \n",
            "=================================================================\n",
            "Total params: 791,040\n",
            "Trainable params: 791,040\n",
            "Non-trainable params: 0\n",
            "_________________________________________________________________\n"
          ],
          "name": "stdout"
        }
      ]
    },
    {
      "cell_type": "code",
      "metadata": {
        "colab": {
          "base_uri": "https://localhost:8080/"
        },
        "id": "Yz93eQj0kt7c",
        "outputId": "debf88f1-d933-4e56-fa1a-c4c8f817895a"
      },
      "source": [
        "batch_size = 64\r\n",
        "epochs = 4\r\n",
        "\r\n",
        "history = model.fit(x_train, y_train,\r\n",
        "                    batch_size=batch_size,\r\n",
        "                    epochs=epochs,\r\n",
        "                    verbose=1,\r\n",
        "                    validation_split=0.3)\r\n",
        "# score = model.evaluate(x_test, y_test, verbose=0)\r\n",
        "# print('Test loss:', score[0])\r\n",
        "# print('Test accuracy:', score[1])"
      ],
      "execution_count": 25,
      "outputs": [
        {
          "output_type": "stream",
          "text": [
            "Epoch 1/4\n",
            "66/66 [==============================] - 91s 1s/step - loss: 6.9872 - accuracy: 0.3326 - val_loss: 6.7612 - val_accuracy: 0.5700\n",
            "Epoch 2/4\n",
            "66/66 [==============================] - 87s 1s/step - loss: 6.7284 - accuracy: 0.6359 - val_loss: 6.6415 - val_accuracy: 0.7006\n",
            "Epoch 3/4\n",
            "66/66 [==============================] - 87s 1s/step - loss: 6.6723 - accuracy: 0.6770 - val_loss: 6.6242 - val_accuracy: 0.6661\n",
            "Epoch 4/4\n",
            "66/66 [==============================] - 87s 1s/step - loss: 6.6058 - accuracy: 0.7628 - val_loss: 6.5536 - val_accuracy: 0.8517\n"
          ],
          "name": "stdout"
        }
      ]
    },
    {
      "cell_type": "code",
      "metadata": {
        "id": "1Aqdi6Hk72SK"
      },
      "source": [
        ""
      ],
      "execution_count": null,
      "outputs": []
    },
    {
      "cell_type": "markdown",
      "metadata": {
        "id": "HhyDLJAL9bHL"
      },
      "source": [
        "## CNN"
      ]
    },
    {
      "cell_type": "code",
      "metadata": {
        "id": "eENJWxpZ-fKG"
      },
      "source": [
        "def CNNmodel():\r\n",
        "  input = tf.keras.layers.Input(shape=input_shape)\r\n",
        "  out = tf.keras.layers.Conv1D(\r\n",
        "      filters=32, kernel_size=7, padding=\"same\", strides=2, activation=\"relu\"\r\n",
        "  )(input)\r\n",
        "  out = tf.keras.layers.Dropout(rate=0.2)(out)\r\n",
        "  out = tf.keras.layers.Conv1D(\r\n",
        "      filters=16, kernel_size=7, padding=\"same\", strides=2, activation=\"relu\"\r\n",
        "  )(out)\r\n",
        "  out = tf.keras.layers.Conv1DTranspose(\r\n",
        "      filters=16, kernel_size=7, padding=\"same\", strides=2, activation=\"relu\"\r\n",
        "  )(out)\r\n",
        "  out = tf.keras.layers.Dropout(rate=0.2)(out)\r\n",
        "  out = tf.keras.layers.Conv1DTranspose(\r\n",
        "      filters=32, kernel_size=7, padding=\"same\", strides=2, activation=\"relu\"\r\n",
        "  )(out)\r\n",
        "  out = tf.keras.layers.Conv1DTranspose(filters=1, kernel_size=7, padding=\"same\")(out)\r\n",
        "  out = LSTM(units=128)(out)\r\n",
        "  out = Dense(classes,activation='softmax')(out)\r\n",
        "  model = Model(input,out)\r\n",
        "  return model"
      ],
      "execution_count": 153,
      "outputs": []
    },
    {
      "cell_type": "code",
      "metadata": {
        "colab": {
          "base_uri": "https://localhost:8080/"
        },
        "id": "961zxbRL9x9A",
        "outputId": "4a81955b-327a-4a20-808c-f6ba97068e9b"
      },
      "source": [
        "CNNmodel1 = CNNmodel()\r\n",
        "# CNNmodel1.compile(optimizer=tf.keras.optimizers.RMSprop(),\r\n",
        "#               loss=tf.keras.losses.SparseCategoricalCrossentropy(),\r\n",
        "#               metrics=[tf.keras.metrics.SparseCategoricalAccuracy()])\r\n",
        "CNNmodel1.compile(optimizer=keras.optimizers.Adam(learning_rate=0.001), loss=\"mse\", metrics=['accuracy'])\r\n",
        "CNNmodel1.summary()"
      ],
      "execution_count": 161,
      "outputs": [
        {
          "output_type": "stream",
          "text": [
            "Model: \"model_33\"\n",
            "_________________________________________________________________\n",
            "Layer (type)                 Output Shape              Param #   \n",
            "=================================================================\n",
            "input_34 (InputLayer)        [(None, 128, 1)]          0         \n",
            "_________________________________________________________________\n",
            "conv1d_14 (Conv1D)           (None, 64, 32)            256       \n",
            "_________________________________________________________________\n",
            "dropout_66 (Dropout)         (None, 64, 32)            0         \n",
            "_________________________________________________________________\n",
            "conv1d_15 (Conv1D)           (None, 32, 16)            3600      \n",
            "_________________________________________________________________\n",
            "conv1d_transpose_17 (Conv1DT (None, 64, 16)            1808      \n",
            "_________________________________________________________________\n",
            "dropout_67 (Dropout)         (None, 64, 16)            0         \n",
            "_________________________________________________________________\n",
            "conv1d_transpose_18 (Conv1DT (None, 128, 32)           3616      \n",
            "_________________________________________________________________\n",
            "conv1d_transpose_19 (Conv1DT (None, 128, 1)            225       \n",
            "_________________________________________________________________\n",
            "lstm_59 (LSTM)               (None, 128)               66560     \n",
            "_________________________________________________________________\n",
            "dense_19 (Dense)             (None, 6)                 774       \n",
            "=================================================================\n",
            "Total params: 76,839\n",
            "Trainable params: 76,839\n",
            "Non-trainable params: 0\n",
            "_________________________________________________________________\n"
          ],
          "name": "stdout"
        }
      ]
    },
    {
      "cell_type": "code",
      "metadata": {
        "colab": {
          "base_uri": "https://localhost:8080/"
        },
        "id": "F5jrsNJyCn_i",
        "outputId": "4f3b4ad9-7472-4ecb-a7d1-82844855246f"
      },
      "source": [
        "# print(X_train.shape,Y_train.shape)\r\n",
        "y_train.shape"
      ],
      "execution_count": 155,
      "outputs": [
        {
          "output_type": "execute_result",
          "data": {
            "text/plain": [
              "(6000, 6)"
            ]
          },
          "metadata": {
            "tags": []
          },
          "execution_count": 155
        }
      ]
    },
    {
      "cell_type": "code",
      "metadata": {
        "colab": {
          "base_uri": "https://localhost:8080/"
        },
        "id": "7RTAJqVR91fu",
        "outputId": "eeb52b89-c606-4c5c-846f-46737b831673"
      },
      "source": [
        "# CNNchkpt = ModelCheckpoint(\"CNN_model1weights.h5\", monitor='val_loss',verbose=1, save_best_only=True, save_weights_only=True, mode='min')\r\n",
        "history = CNNmodel1.fit(x_train,y_train,epochs=10,batch_size=64)"
      ],
      "execution_count": 162,
      "outputs": [
        {
          "output_type": "stream",
          "text": [
            "Epoch 1/10\n",
            "94/94 [==============================] - 21s 205ms/step - loss: 0.1308 - accuracy: 0.2602\n",
            "Epoch 2/10\n",
            "94/94 [==============================] - 19s 204ms/step - loss: 0.1208 - accuracy: 0.3275\n",
            "Epoch 3/10\n",
            "94/94 [==============================] - 19s 204ms/step - loss: 0.1034 - accuracy: 0.4107\n",
            "Epoch 4/10\n",
            "94/94 [==============================] - 19s 205ms/step - loss: 0.1035 - accuracy: 0.4225\n",
            "Epoch 5/10\n",
            "94/94 [==============================] - 19s 204ms/step - loss: 0.1026 - accuracy: 0.4282\n",
            "Epoch 6/10\n",
            "94/94 [==============================] - 19s 204ms/step - loss: 0.1030 - accuracy: 0.4203\n",
            "Epoch 7/10\n",
            "94/94 [==============================] - 19s 205ms/step - loss: 0.1031 - accuracy: 0.4179\n",
            "Epoch 8/10\n",
            "94/94 [==============================] - 19s 206ms/step - loss: 0.1028 - accuracy: 0.4326\n",
            "Epoch 9/10\n",
            "94/94 [==============================] - 19s 205ms/step - loss: 0.1034 - accuracy: 0.4103\n",
            "Epoch 10/10\n",
            "94/94 [==============================] - 19s 202ms/step - loss: 0.1032 - accuracy: 0.4164\n"
          ],
          "name": "stdout"
        }
      ]
    },
    {
      "cell_type": "code",
      "metadata": {
        "id": "Lo0UogT1COp9"
      },
      "source": [
        ""
      ],
      "execution_count": null,
      "outputs": []
    }
  ]
}